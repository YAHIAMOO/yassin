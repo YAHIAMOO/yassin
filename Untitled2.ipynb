{
 "cells": [
  {
   "cell_type": "code",
   "execution_count": 1,
   "id": "d028aac9-1c7d-4bb5-8792-43a30e1abac5",
   "metadata": {},
   "outputs": [
    {
     "name": "stdout",
     "output_type": "stream",
     "text": [
      "good morning\n"
     ]
    }
   ],
   "source": [
    "print (\"good morning\")"
   ]
  },
  {
   "cell_type": "code",
   "execution_count": 3,
   "id": "f849fa6c-382e-4b36-bd4e-48681df842d2",
   "metadata": {},
   "outputs": [
    {
     "name": "stdout",
     "output_type": "stream",
     "text": [
      "hello from yahia\n"
     ]
    }
   ],
   "source": [
    "print(\"hello from yahia\")"
   ]
  },
  {
   "cell_type": "code",
   "execution_count": 9,
   "id": "b3fd7baa-2899-47c3-9a47-8120d3b9e2fe",
   "metadata": {},
   "outputs": [
    {
     "name": "stdout",
     "output_type": "stream",
     "text": [
      "12\n"
     ]
    }
   ],
   "source": [
    "def sum(x , y):\n",
    "    result = x + y\n",
    "    print (result)\n",
    "sum (3 , 9)"
   ]
  },
  {
   "cell_type": "code",
   "execution_count": 22,
   "id": "12cf8ada-10c8-4445-96b0-a572a832e4c8",
   "metadata": {},
   "outputs": [],
   "source": [
    "list_1 = ['appel' , 'orang' , 'jjjj']"
   ]
  },
  {
   "cell_type": "code",
   "execution_count": 3,
   "id": "6d0b0d84-4075-4623-9074-4e5c9f5acb1a",
   "metadata": {},
   "outputs": [
    {
     "data": {
      "text/plain": [
       "'appel'"
      ]
     },
     "execution_count": 3,
     "metadata": {},
     "output_type": "execute_result"
    }
   ],
   "source": [
    "list_1[0]"
   ]
  },
  {
   "cell_type": "code",
   "execution_count": 5,
   "id": "f47a9f43-3b58-46b1-9b9e-0e418bed33c3",
   "metadata": {},
   "outputs": [
    {
     "data": {
      "text/plain": [
       "'orang'"
      ]
     },
     "execution_count": 5,
     "metadata": {},
     "output_type": "execute_result"
    }
   ],
   "source": [
    "list_1[1]"
   ]
  },
  {
   "cell_type": "code",
   "execution_count": 7,
   "id": "41b2592a-eb54-477d-9d43-e3a7f846e396",
   "metadata": {},
   "outputs": [
    {
     "data": {
      "text/plain": [
       "'orang'"
      ]
     },
     "execution_count": 7,
     "metadata": {},
     "output_type": "execute_result"
    }
   ],
   "source": [
    "list_1[-1]"
   ]
  },
  {
   "cell_type": "code",
   "execution_count": 11,
   "id": "41f43a4c-6e9c-470b-bf77-339d3d25db8c",
   "metadata": {},
   "outputs": [
    {
     "data": {
      "text/plain": [
       "'appel'"
      ]
     },
     "execution_count": 11,
     "metadata": {},
     "output_type": "execute_result"
    }
   ],
   "source": [
    "list_1 [-2]"
   ]
  },
  {
   "cell_type": "code",
   "execution_count": 24,
   "id": "ec53e04b-6a0b-4078-87ad-ff9099fc3652",
   "metadata": {},
   "outputs": [
    {
     "data": {
      "text/plain": [
       "'appel'"
      ]
     },
     "execution_count": 24,
     "metadata": {},
     "output_type": "execute_result"
    }
   ],
   "source": [
    "list_1[-3]"
   ]
  },
  {
   "cell_type": "code",
   "execution_count": 26,
   "id": "ad81964d-b048-4cb0-bc0e-6d941363d680",
   "metadata": {},
   "outputs": [
    {
     "data": {
      "text/plain": [
       "'jjjj'"
      ]
     },
     "execution_count": 26,
     "metadata": {},
     "output_type": "execute_result"
    }
   ],
   "source": [
    "list_1[-1]"
   ]
  },
  {
   "cell_type": "code",
   "execution_count": 28,
   "id": "55c10054-1be2-4bc7-87f4-6ed4045c8948",
   "metadata": {},
   "outputs": [
    {
     "data": {
      "text/plain": [
       "'orang'"
      ]
     },
     "execution_count": 28,
     "metadata": {},
     "output_type": "execute_result"
    }
   ],
   "source": [
    "list_1[-2]"
   ]
  },
  {
   "cell_type": "code",
   "execution_count": 30,
   "id": "6d5f3df2-6867-4cbe-bfdb-4d801daa5fce",
   "metadata": {},
   "outputs": [
    {
     "data": {
      "text/plain": [
       "'appel'"
      ]
     },
     "execution_count": 30,
     "metadata": {},
     "output_type": "execute_result"
    }
   ],
   "source": [
    "list_1[-3]"
   ]
  },
  {
   "cell_type": "code",
   "execution_count": 32,
   "id": "73688508-b464-4a7b-9c63-cc164f2579b7",
   "metadata": {},
   "outputs": [
    {
     "data": {
      "text/plain": [
       "'appel'"
      ]
     },
     "execution_count": 32,
     "metadata": {},
     "output_type": "execute_result"
    }
   ],
   "source": [
    "list_1[0]"
   ]
  },
  {
   "cell_type": "code",
   "execution_count": 34,
   "id": "f15e0379-11d0-4384-a8da-03c61161b299",
   "metadata": {},
   "outputs": [
    {
     "data": {
      "text/plain": [
       "'orang'"
      ]
     },
     "execution_count": 34,
     "metadata": {},
     "output_type": "execute_result"
    }
   ],
   "source": [
    "list_1[1]"
   ]
  },
  {
   "cell_type": "code",
   "execution_count": 38,
   "id": "76f4c819-4ac6-4ffc-94b1-c3577a96f7f1",
   "metadata": {},
   "outputs": [
    {
     "data": {
      "text/plain": [
       "'jjjj'"
      ]
     },
     "execution_count": 38,
     "metadata": {},
     "output_type": "execute_result"
    }
   ],
   "source": [
    "list_1[2]"
   ]
  },
  {
   "cell_type": "code",
   "execution_count": 48,
   "id": "662d550d-9437-4427-b2ed-ea672ede1ff0",
   "metadata": {},
   "outputs": [],
   "source": [
    "list_1.append('yahia')"
   ]
  },
  {
   "cell_type": "code",
   "execution_count": 52,
   "id": "e83611c0-5eaa-40a4-9149-2b00df19411f",
   "metadata": {},
   "outputs": [
    {
     "data": {
      "text/plain": [
       "['appel', 'orang', 'jjjj', 'yahia']"
      ]
     },
     "execution_count": 52,
     "metadata": {},
     "output_type": "execute_result"
    }
   ],
   "source": [
    "list_1"
   ]
  },
  {
   "cell_type": "code",
   "execution_count": 54,
   "id": "6506bb2d-2213-461a-a609-beccefe016c0",
   "metadata": {},
   "outputs": [
    {
     "data": {
      "text/plain": [
       "'yahia'"
      ]
     },
     "execution_count": 54,
     "metadata": {},
     "output_type": "execute_result"
    }
   ],
   "source": [
    "list_1[3]"
   ]
  },
  {
   "cell_type": "code",
   "execution_count": 56,
   "id": "8d760cde-e366-4406-a75e-5bf39e27fabf",
   "metadata": {},
   "outputs": [
    {
     "data": {
      "text/plain": [
       "'jjjj'"
      ]
     },
     "execution_count": 56,
     "metadata": {},
     "output_type": "execute_result"
    }
   ],
   "source": [
    "list_1[2]"
   ]
  },
  {
   "cell_type": "code",
   "execution_count": 58,
   "id": "dac41777-3251-4b90-9b75-6d3ea2ec7ec2",
   "metadata": {},
   "outputs": [
    {
     "data": {
      "text/plain": [
       "'orang'"
      ]
     },
     "execution_count": 58,
     "metadata": {},
     "output_type": "execute_result"
    }
   ],
   "source": [
    "list_1[1]"
   ]
  },
  {
   "cell_type": "code",
   "execution_count": 60,
   "id": "735bb358-6d12-4640-9fff-64e142ae8666",
   "metadata": {},
   "outputs": [
    {
     "data": {
      "text/plain": [
       "'appel'"
      ]
     },
     "execution_count": 60,
     "metadata": {},
     "output_type": "execute_result"
    }
   ],
   "source": [
    "list_1[0]"
   ]
  },
  {
   "cell_type": "code",
   "execution_count": 62,
   "id": "366c15b8-583b-404a-85f6-3db1f7ed67b6",
   "metadata": {},
   "outputs": [
    {
     "data": {
      "text/plain": [
       "'yahia'"
      ]
     },
     "execution_count": 62,
     "metadata": {},
     "output_type": "execute_result"
    }
   ],
   "source": [
    "list_1[-1]"
   ]
  },
  {
   "cell_type": "code",
   "execution_count": 64,
   "id": "f837b04c-84de-469c-9049-0c937a4e7ac1",
   "metadata": {},
   "outputs": [
    {
     "data": {
      "text/plain": [
       "'jjjj'"
      ]
     },
     "execution_count": 64,
     "metadata": {},
     "output_type": "execute_result"
    }
   ],
   "source": [
    "list_1[-2]"
   ]
  },
  {
   "cell_type": "code",
   "execution_count": 66,
   "id": "ebf43ac9-383d-4041-a8a6-7caac58dc049",
   "metadata": {},
   "outputs": [
    {
     "data": {
      "text/plain": [
       "'orang'"
      ]
     },
     "execution_count": 66,
     "metadata": {},
     "output_type": "execute_result"
    }
   ],
   "source": [
    "list_1[-3]"
   ]
  },
  {
   "cell_type": "code",
   "execution_count": 68,
   "id": "32d52094-0372-4ce0-a6de-526b1603df4d",
   "metadata": {},
   "outputs": [
    {
     "data": {
      "text/plain": [
       "'appel'"
      ]
     },
     "execution_count": 68,
     "metadata": {},
     "output_type": "execute_result"
    }
   ],
   "source": [
    "list_1[-4]"
   ]
  },
  {
   "cell_type": "code",
   "execution_count": 78,
   "id": "7cb2e0e5-7452-43b6-8ee1-fbdf52c7adb5",
   "metadata": {},
   "outputs": [],
   "source": [
    "list_1.append('yousef')\n",
    "list_1.append('malk')"
   ]
  },
  {
   "cell_type": "code",
   "execution_count": 80,
   "id": "85764605-01ce-4e89-baec-3d253a3a084c",
   "metadata": {},
   "outputs": [
    {
     "data": {
      "text/plain": [
       "['appel', 'orang', 'jjjj', 'yahia', 'yousef', 'malk']"
      ]
     },
     "execution_count": 80,
     "metadata": {},
     "output_type": "execute_result"
    }
   ],
   "source": [
    "list_1"
   ]
  },
  {
   "cell_type": "code",
   "execution_count": 82,
   "id": "56648de2-c93a-4d3a-8ca7-0e51dcc2c17b",
   "metadata": {},
   "outputs": [
    {
     "name": "stdout",
     "output_type": "stream",
     "text": [
      "['appel', 'orang', 'jjjj', 'yahia', 'yousef', 'malk']\n"
     ]
    }
   ],
   "source": [
    "print(list_1)"
   ]
  },
  {
   "cell_type": "code",
   "execution_count": 86,
   "id": "39c4c398-be39-45a0-969f-7d273594a53a",
   "metadata": {},
   "outputs": [
    {
     "name": "stdout",
     "output_type": "stream",
     "text": [
      "['appel', 'orang', 'jjjj', 'yahia', 'yousef', 'malk']\n"
     ]
    }
   ],
   "source": [
    "print (list_1)"
   ]
  },
  {
   "cell_type": "code",
   "execution_count": 88,
   "id": "1eea1f46-39cb-4adb-ac96-bdfe055761a2",
   "metadata": {},
   "outputs": [],
   "source": [
    "list_1.insert(0 , 'yahia')"
   ]
  },
  {
   "cell_type": "code",
   "execution_count": 90,
   "id": "3ed8cd6c-020b-491f-9e7f-1ae8dd4bc018",
   "metadata": {},
   "outputs": [
    {
     "data": {
      "text/plain": [
       "['yahia', 'appel', 'orang', 'jjjj', 'yahia', 'yousef', 'malk']"
      ]
     },
     "execution_count": 90,
     "metadata": {},
     "output_type": "execute_result"
    }
   ],
   "source": [
    "list_1"
   ]
  },
  {
   "cell_type": "code",
   "execution_count": 92,
   "id": "a7cda9ab-34fa-446f-b54f-038fb3137825",
   "metadata": {},
   "outputs": [],
   "source": [
    "list_1.insert(0,'yousef')"
   ]
  },
  {
   "cell_type": "code",
   "execution_count": 110,
   "id": "fa66a5e6-54f8-4f1f-b621-3be650199e0a",
   "metadata": {},
   "outputs": [
    {
     "data": {
      "text/plain": [
       "['yahia', 'appel', 'orang', 'yahia', 'malk']"
      ]
     },
     "execution_count": 110,
     "metadata": {},
     "output_type": "execute_result"
    }
   ],
   "source": [
    "list_1"
   ]
  },
  {
   "cell_type": "code",
   "execution_count": 106,
   "id": "aaaf9c59-0905-415d-8d82-8ecc9914a7db",
   "metadata": {},
   "outputs": [],
   "source": [
    "list_1.remove('yousef')"
   ]
  },
  {
   "cell_type": "code",
   "execution_count": 108,
   "id": "a1a6fbd2-47fa-4d53-8049-5b0adf700a0a",
   "metadata": {},
   "outputs": [
    {
     "data": {
      "text/plain": [
       "'jjjj'"
      ]
     },
     "execution_count": 108,
     "metadata": {},
     "output_type": "execute_result"
    }
   ],
   "source": [
    "list_1.pop(3)"
   ]
  },
  {
   "cell_type": "code",
   "execution_count": 118,
   "id": "89a14924-0648-4821-ad65-07c98ecb2e10",
   "metadata": {},
   "outputs": [],
   "source": [
    "list_2 = ['appel' , 'orange']"
   ]
  },
  {
   "cell_type": "code",
   "execution_count": 121,
   "id": "8bbe89fe-2f1c-452a-9a7c-68977df8b6e2",
   "metadata": {},
   "outputs": [],
   "source": [
    "list_1.extend(list_1)"
   ]
  },
  {
   "cell_type": "code",
   "execution_count": 129,
   "id": "98b28edc-e408-441e-83bb-6e3a8f5390a9",
   "metadata": {},
   "outputs": [
    {
     "name": "stdout",
     "output_type": "stream",
     "text": [
      "['yahia', 'appel', 'orang', 'yahia', 'malk', 'yahia', 'appel', 'orang', 'yahia', 'malk']\n"
     ]
    }
   ],
   "source": [
    "print (list_1)"
   ]
  },
  {
   "cell_type": "code",
   "execution_count": 131,
   "id": "2f587085-3de6-478d-8f45-03abbefb803c",
   "metadata": {},
   "outputs": [
    {
     "data": {
      "text/plain": [
       "['yahia',\n",
       " 'appel',\n",
       " 'orang',\n",
       " 'yahia',\n",
       " 'malk',\n",
       " 'yahia',\n",
       " 'appel',\n",
       " 'orang',\n",
       " 'yahia',\n",
       " 'malk']"
      ]
     },
     "execution_count": 131,
     "metadata": {},
     "output_type": "execute_result"
    }
   ],
   "source": [
    "list_1"
   ]
  },
  {
   "cell_type": "code",
   "execution_count": 135,
   "id": "0fe09805-933a-4d53-893f-b164dd9d8b0a",
   "metadata": {},
   "outputs": [
    {
     "name": "stdout",
     "output_type": "stream",
     "text": [
      "[9, 5, 3, 2, 1]\n"
     ]
    }
   ],
   "source": [
    "y = [9 , 5 , 3 , 1 , 2 ]\n",
    "y . sort(reverse=True)\n",
    "print(y)"
   ]
  },
  {
   "cell_type": "code",
   "execution_count": 137,
   "id": "d0b2c184-5ef6-45e9-80c4-72fcc95f7e1d",
   "metadata": {},
   "outputs": [
    {
     "name": "stdout",
     "output_type": "stream",
     "text": [
      "[1, 2, 3, 5, 9]\n"
     ]
    }
   ],
   "source": [
    "y . sort ()\n",
    "print (y)"
   ]
  },
  {
   "cell_type": "code",
   "execution_count": 139,
   "id": "da76ed1a-11e8-470d-8d56-38252815d594",
   "metadata": {
    "scrolled": true
   },
   "outputs": [],
   "source": [
    "cooldinates = (7 , 2)\n",
    "fruits = ('appel' , 'orange')"
   ]
  },
  {
   "cell_type": "code",
   "execution_count": null,
   "id": "5bbc0b64-a50c-46c3-af7f-4b85117cde66",
   "metadata": {},
   "outputs": [],
   "source": [
    "def calculat (num1, num2, num3, num4, num5, num6):\n",
    "    num1=int(input(\"enter num1\"))\n",
    "    num2=int(input(\"enter num2\")) \n",
    "    num3=int(input(\"enter num3\"))\n",
    "    num4=int(input(\"enter num4\"))\n",
    "    num5=int(input(\"enter num5\"))\n",
    "    num6=int(input(\"enter num6\"))\n",
    "    operation=input(\"chose the operation(+,-,/,*,%,//,**):\")\n",
    "    if operation=='+':\n",
    "        print (num1 + num2 + num3 + num4 + num5 + num6)\n",
    "    elif operation=='-':\n",
    "        print (num1 - num2 - num3 - num4 - num5 - num6)\n",
    "    elif operation=='*':\n",
    "        print (num1 * num2 * num3 * num4 * num5 * num6)\n",
    "    elif operation=='/':\n",
    "        print (num1 / num2 / num3 / num4 / num5 / num6)\n",
    "    elif operation=='//':\n",
    "        print (num1 // num2 // num3 // num4 // num5 // num6)\n",
    "    elif operation=='**':\n",
    "        print (num1 ** num2 ** num3 ** num4 ** num5 ** num6)\n",
    "    elif operation=='%':\n",
    "        print (num1 % num2 % num3 % num4 % num5 % num6)\n",
    "    else:\n",
    "        print (\"error\")\n",
    "calculat(0,0,0,0,0,0)        \n",
    "        "
   ]
  },
  {
   "cell_type": "code",
   "execution_count": 22,
   "id": "29a800b6-3f1b-45d5-94c7-a2d9979ac2bb",
   "metadata": {},
   "outputs": [],
   "source": [
    "name = {\"yahis\" :1 , \"yassin\" :7}"
   ]
  },
  {
   "cell_type": "code",
   "execution_count": 32,
   "id": "6d5b704a-5da9-4f2e-aaab-c18ed817058f",
   "metadata": {},
   "outputs": [
    {
     "data": {
      "text/plain": [
       "{'yahis': 1, 'yassin': 7}"
      ]
     },
     "execution_count": 32,
     "metadata": {},
     "output_type": "execute_result"
    }
   ],
   "source": [
    "name"
   ]
  },
  {
   "cell_type": "code",
   "execution_count": 14,
   "id": "e4d955a1-5927-4d92-8dee-ec2b098fbd34",
   "metadata": {},
   "outputs": [],
   "source": [
    "my_string = \"i love python\""
   ]
  },
  {
   "cell_type": "code",
   "execution_count": 30,
   "id": "68cda9df-00a4-4413-bcf1-dc77cb06e018",
   "metadata": {},
   "outputs": [
    {
     "name": "stdout",
     "output_type": "stream",
     "text": [
      "i\n",
      "l\n",
      "o\n",
      "v\n",
      "e\n",
      "p\n",
      "y\n",
      "t\n",
      "h\n",
      "o\n",
      "n\n",
      "hon\n",
      "i love\n",
      "love python\n",
      "i love python\n",
      "i\n",
      "ilv yhn\n"
     ]
    }
   ],
   "source": [
    "\n",
    "print(my_string[0])\n",
    "print(my_string[2])\n",
    "print(my_string[3])\n",
    "print(my_string[4])\n",
    "print(my_string[5])\n",
    "print(my_string[7])\n",
    "print(my_string[8])\n",
    "print(my_string[9])\n",
    "print(my_string[10])\n",
    "print(my_string[11])\n",
    "print(my_string[12])\n",
    "print(my_string[10 : 13])\n",
    "print(my_string[ :6])\n",
    "print(my_string[2 : ])\n",
    "print(my_string[ :13])\n",
    "print(my_string[ :1])\n",
    "print(my_string[::2])\n"
   ]
  },
  {
   "cell_type": "code",
   "execution_count": 1,
   "id": "2f9eb9fd-c0d8-4355-9c31-8c1fab696203",
   "metadata": {},
   "outputs": [
    {
     "name": "stdout",
     "output_type": "stream",
     "text": [
      "['i', 'love', 'pythin', 'and', 'php']\n"
     ]
    }
   ],
   "source": [
    "a = \"i love pythin and php\"\n",
    "print(a.split())"
   ]
  },
  {
   "cell_type": "code",
   "execution_count": 5,
   "id": "fd4dd200-388f-460c-aef9-667045edfba0",
   "metadata": {},
   "outputs": [
    {
     "name": "stdout",
     "output_type": "stream",
     "text": [
      "I Love Pythin And Php\n"
     ]
    }
   ],
   "source": [
    "b = \"i love python and php\"\n",
    "print(a.title())"
   ]
  },
  {
   "cell_type": "code",
   "execution_count": null,
   "id": "89201193-3282-4520-8005-b740f1017830",
   "metadata": {},
   "outputs": [],
   "source": [
    "c = "
   ]
  }
 ],
 "metadata": {
  "kernelspec": {
   "display_name": "Python 3 (ipykernel)",
   "language": "python",
   "name": "python3"
  },
  "language_info": {
   "codemirror_mode": {
    "name": "ipython",
    "version": 3
   },
   "file_extension": ".py",
   "mimetype": "text/x-python",
   "name": "python",
   "nbconvert_exporter": "python",
   "pygments_lexer": "ipython3",
   "version": "3.12.7"
  }
 },
 "nbformat": 4,
 "nbformat_minor": 5
}
